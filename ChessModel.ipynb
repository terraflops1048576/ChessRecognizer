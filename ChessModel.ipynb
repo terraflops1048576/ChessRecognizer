{
 "cells": [
  {
   "cell_type": "code",
   "execution_count": 1,
   "id": "cb3208eb-b781-4b4a-b4f1-0d50f53cdf5d",
   "metadata": {},
   "outputs": [],
   "source": [
    "import torchvision\n",
    "import torch"
   ]
  },
  {
   "cell_type": "code",
   "execution_count": 2,
   "id": "eda6fdd4-6a52-49f1-a9ea-8013c22e1730",
   "metadata": {},
   "outputs": [],
   "source": [
    "efficientnet = torchvision.models.efficientnet_b0(weights=torchvision.models.EfficientNet_B0_Weights.IMAGENET1K_V1)\n",
    "efficientnet.classifier[1] = torch.nn.Identity()"
   ]
  },
  {
   "cell_type": "code",
   "execution_count": 3,
   "id": "bce4386e-1506-4b05-8cfe-7ab8de97eda5",
   "metadata": {},
   "outputs": [],
   "source": [
    "from pytorch_model_summary import summary"
   ]
  },
  {
   "cell_type": "code",
   "execution_count": 4,
   "id": "ba4124ac-0270-4c24-bf65-7c32bdc614e5",
   "metadata": {},
   "outputs": [
    {
     "name": "stdout",
     "output_type": "stream",
     "text": [
      "-------------------------------------------------------------------------------\n",
      "           Layer (type)           Output Shape         Param #     Tr. Param #\n",
      "===============================================================================\n",
      "               Conv2d-1     [69, 32, 112, 112]             864             864\n",
      "          BatchNorm2d-2     [69, 32, 112, 112]              64              64\n",
      "                 SiLU-3     [69, 32, 112, 112]               0               0\n",
      "               MBConv-4     [69, 16, 112, 112]           1,448           1,448\n",
      "               MBConv-5       [69, 24, 56, 56]           6,004           6,004\n",
      "               MBConv-6       [69, 24, 56, 56]          10,710          10,710\n",
      "               MBConv-7       [69, 40, 28, 28]          15,350          15,350\n",
      "               MBConv-8       [69, 40, 28, 28]          31,290          31,290\n",
      "               MBConv-9       [69, 80, 14, 14]          37,130          37,130\n",
      "              MBConv-10       [69, 80, 14, 14]         102,900         102,900\n",
      "              MBConv-11       [69, 80, 14, 14]         102,900         102,900\n",
      "              MBConv-12      [69, 112, 14, 14]         126,004         126,004\n",
      "              MBConv-13      [69, 112, 14, 14]         208,572         208,572\n",
      "              MBConv-14      [69, 112, 14, 14]         208,572         208,572\n",
      "              MBConv-15        [69, 192, 7, 7]         262,492         262,492\n",
      "              MBConv-16        [69, 192, 7, 7]         587,952         587,952\n",
      "              MBConv-17        [69, 192, 7, 7]         587,952         587,952\n",
      "              MBConv-18        [69, 192, 7, 7]         587,952         587,952\n",
      "              MBConv-19        [69, 320, 7, 7]         717,232         717,232\n",
      "              Conv2d-20       [69, 1280, 7, 7]         409,600         409,600\n",
      "         BatchNorm2d-21       [69, 1280, 7, 7]           2,560           2,560\n",
      "                SiLU-22       [69, 1280, 7, 7]               0               0\n",
      "   AdaptiveAvgPool2d-23       [69, 1280, 1, 1]               0               0\n",
      "             Dropout-24             [69, 1280]               0               0\n",
      "            Identity-25             [69, 1280]               0               0\n",
      "===============================================================================\n",
      "Total params: 4,007,548\n",
      "Trainable params: 4,007,548\n",
      "Non-trainable params: 0\n",
      "-------------------------------------------------------------------------------\n"
     ]
    }
   ],
   "source": [
    "print(summary(efficientnet, torch.zeros(69, 3, 224, 224)))"
   ]
  },
  {
   "cell_type": "code",
   "execution_count": 5,
   "id": "06634c2f-86f3-4a96-ad30-90f2c24e189f",
   "metadata": {},
   "outputs": [],
   "source": [
    "decoder_layer = torch.nn.TransformerDecoderLayer(d_model=512, nhead=8)\n",
    "transformer_decoder = torch.nn.TransformerDecoder(decoder_layer, num_layers=6)"
   ]
  },
  {
   "cell_type": "code",
   "execution_count": 6,
   "id": "287df2cf-c4f8-46a5-b29f-f37c8442a1ba",
   "metadata": {},
   "outputs": [
    {
     "data": {
      "text/plain": [
       "tensor([[ 0.1626, -0.0023,  0.2371,  ...,  0.4563,  0.0158,  0.0000],\n",
       "        [ 0.3846,  0.0000,  0.0000,  ...,  0.0548, -0.0942, -0.1344],\n",
       "        [ 0.2714, -0.0000,  0.5801,  ...,  0.1179,  0.1266, -0.0000],\n",
       "        ...,\n",
       "        [-0.0000, -0.0657,  0.3875,  ..., -0.1731,  0.0000, -0.1454],\n",
       "        [ 0.1431,  0.0428, -0.0000,  ..., -0.0696, -0.1450,  0.1198],\n",
       "        [ 0.0000, -0.0023,  0.2371,  ...,  0.0000,  0.0158,  0.1852]],\n",
       "       grad_fn=<AsStridedBackward0>)"
      ]
     },
     "execution_count": 6,
     "metadata": {},
     "output_type": "execute_result"
    }
   ],
   "source": [
    "efficientnet(torch.zeros(69, 3, 224, 224))"
   ]
  },
  {
   "cell_type": "code",
   "execution_count": 10,
   "id": "9c0a8007-937c-4138-967a-48e684973412",
   "metadata": {},
   "outputs": [
    {
     "data": {
      "text/plain": [
       "''"
      ]
     },
     "execution_count": 10,
     "metadata": {},
     "output_type": "execute_result"
    }
   ],
   "source": [
    "recognizer_mini = ChessRecognizer(512, 4, 4)\n",
    "chr2idx = {'>': 0, '<': 1, 'A': 2, 'B': 3}\n",
    "recognizer_full_mini = ChessRecognizerFull(chr2idx, recognizer_mini)\n",
    "#print(recognizer_full.embedding_size)\n",
    "recognizer_full_mini(torch.zeros(2, 3, 224, 224), ['AB'] * 2, max_len=4)\n",
    "#recognizer_full.convert_text_to_tensor(['AB>'] * 4, 90)\n",
    "recognizer_full_mini.compute_loss(torch.zeros(2, 3, 224, 224), ['AB'] * 2, max_len=4)\n",
    "recognizer_full_mini.generate_output(torch.zeros(3, 224, 224), max_len=4)"
   ]
  },
  {
   "cell_type": "code",
   "execution_count": 29,
   "id": "7e3871f1-0f8d-49e2-8e06-21395d0d9aff",
   "metadata": {},
   "outputs": [],
   "source": [
    "from train import trainer, evaluator, recognizer_full"
   ]
  },
  {
   "cell_type": "code",
   "execution_count": 30,
   "id": "bbb8dc54-0c44-4872-87f1-bcec9ec5295d",
   "metadata": {},
   "outputs": [
    {
     "name": "stdout",
     "output_type": "stream",
     "text": [
      "Running validation\n",
      "Row accuracy: 0.0, Token accuracy: 0.11219946571682991\n"
     ]
    },
    {
     "data": {
      "text/plain": [
       "State:\n",
       "\titeration: 18\n",
       "\tepoch: 2\n",
       "\tepoch_length: 9\n",
       "\tmax_epochs: 2\n",
       "\toutput: 7.544007301330566\n",
       "\tbatch: <class 'list'>\n",
       "\tmetrics: <class 'dict'>\n",
       "\tdataloader: <class 'torch.utils.data.dataloader.DataLoader'>\n",
       "\tseed: <class 'NoneType'>\n",
       "\ttimes: <class 'dict'>"
      ]
     },
     "execution_count": 30,
     "metadata": {},
     "output_type": "execute_result"
    }
   ],
   "source": [
    "trainer.run(train_dataloader, max_epochs=2)"
   ]
  },
  {
   "cell_type": "code",
   "execution_count": 51,
   "id": "d27aaf44-1259-4cc4-83e3-ab7151485b07",
   "metadata": {},
   "outputs": [
    {
     "name": "stdout",
     "output_type": "stream",
     "text": [
      "----------------------------------------------------------------------------\n",
      "           Layer (type)        Output Shape         Param #     Tr. Param #\n",
      "============================================================================\n",
      "            Embedding-1        [1, 90, 256]           9,216           9,216\n",
      "   PositionalEncoding-2        [90, 1, 256]               0               0\n",
      "      ChessRecognizer-3        [90, 1, 256]      10,721,916       6,714,368\n",
      "============================================================================\n",
      "Total params: 10,731,132\n",
      "Trainable params: 6,723,584\n",
      "Non-trainable params: 4,007,548\n",
      "----------------------------------------------------------------------------\n"
     ]
    }
   ],
   "source": [
    "print(summary(recognizer_full.to(device), dataset[0][0].to(device).float().unsqueeze(0)/255.0, ['bbbbbb']))"
   ]
  },
  {
   "cell_type": "code",
   "execution_count": 77,
   "id": "7ab52a2c-d301-4a4b-bfdc-e199426b059a",
   "metadata": {},
   "outputs": [],
   "source": [
    "params = list(recognizer_full.parameters())"
   ]
  },
  {
   "cell_type": "code",
   "execution_count": 81,
   "id": "decf731c-d2a4-4c2c-abbd-5049e27746ae",
   "metadata": {},
   "outputs": [
    {
     "data": {
      "text/plain": [
       "0"
      ]
     },
     "execution_count": 81,
     "metadata": {},
     "output_type": "execute_result"
    }
   ],
   "source": [
    "sum(torch.numel(param) for param in params) - 10721916-9216"
   ]
  },
  {
   "cell_type": "code",
   "execution_count": 31,
   "id": "158eb037-962e-49af-969f-42fa6839343c",
   "metadata": {},
   "outputs": [],
   "source": [
    "def generate_output(self, input_img, max_len: int=90) -> str:\n",
    "    with torch.no_grad():\n",
    "        current_seq = self.idx2chr[2] + 'rrrrr'\n",
    "        curr_idx = 0\n",
    "        pp = None\n",
    "        while len(current_seq) < max_len:\n",
    "            current_seq_tensor, curr_seq_mask = self.convert_text_to_tensor([current_seq], max_len)\n",
    "            recognizer_output = self.recognizer(torch.unsqueeze(input_img, 0), current_seq_tensor, curr_seq_mask | False) # comes out as max_len x 1 x d_model\n",
    "            recognizer_output = self.convert_output_tensor_to_logits(recognizer_output)\n",
    "            pre_logits = recognizer_output[-1, :, :] # take the last element of the sequence, now it is 1 x d_model\n",
    "            print(\"Actual\")\n",
    "            print(pre_logits)\n",
    "            if pp is not None:\n",
    "                print(\"Diff\")\n",
    "                print(pre_logits - pp)\n",
    "            pp = pre_logits\n",
    "            filtered_logits = top_k_top_p_filtering(pre_logits, top_k=0, top_p=0.85) # disable top_k, set top_p = 0.85\n",
    "            filtered_logits = torch.nn.functional.softmax(pre_logits, dim=1) # still 1 x d_model\n",
    "            next_token = torch.multinomial(filtered_logits, 1, replacement=True).item()\n",
    "            if next_token == 1:\n",
    "                pass\n",
    "            #break\n",
    "            current_seq += self.idx2chr[next_token]\n",
    "        return current_seq[1:]"
   ]
  },
  {
   "cell_type": "code",
   "execution_count": 32,
   "id": "125f08c9-96bf-404e-8971-7e7817478884",
   "metadata": {},
   "outputs": [
    {
     "name": "stdout",
     "output_type": "stream",
     "text": [
      "Actual\n",
      "tensor([[   0.2632,   23.2920,    8.0402,   23.1371,   23.2585,   21.0327,\n",
      "           14.0558,   21.0366,   23.8089,   23.1485,   22.6810,   12.9351,\n",
      "           17.6448,   10.3701,   16.2547,   17.3641,   23.9682,   20.6138,\n",
      "           10.7859,   13.4753,   12.8044,  -16.1548,   21.5267,   25.6231,\n",
      "          -25.4533,    5.3132, -126.5298,  -29.7871,   -8.6416,    6.2138,\n",
      "          -22.0798,   16.7549,   19.5347,   19.2026,   11.8437,   13.3179]],\n",
      "       device='cuda:0')\n",
      "Actual\n",
      "tensor([[   0.2636,   23.2922,    8.0400,   23.1371,   23.2584,   21.0327,\n",
      "           14.0556,   21.0364,   23.8088,   23.1486,   22.6810,   12.9352,\n",
      "           17.6446,   10.3698,   16.2545,   17.3640,   23.9682,   20.6139,\n",
      "           10.7859,   13.4755,   12.8043,  -16.1549,   21.5269,   25.6229,\n",
      "          -25.4533,    5.3135, -126.5296,  -29.7870,   -8.6416,    6.2139,\n",
      "          -22.0799,   16.7548,   19.5349,   19.2026,   11.8437,   13.3179]],\n",
      "       device='cuda:0')\n",
      "Diff\n",
      "tensor([[ 4.0436e-04,  1.8311e-04, -2.0695e-04, -1.1444e-05, -5.7220e-05,\n",
      "         -2.6703e-05, -1.7166e-04, -2.5749e-04, -1.2589e-04,  1.2970e-04,\n",
      "         -2.2888e-05,  9.1553e-05, -1.5450e-04, -2.4891e-04, -1.6785e-04,\n",
      "         -1.2207e-04,  4.5776e-05,  2.6703e-05, -2.5749e-05,  2.1553e-04,\n",
      "         -1.0109e-04, -4.0054e-05,  1.5450e-04, -1.5640e-04,  5.3406e-05,\n",
      "          2.8992e-04,  1.3733e-04,  1.0872e-04, -2.3842e-05,  1.5402e-04,\n",
      "         -9.1553e-05, -1.4877e-04,  2.1744e-04,  3.4332e-05, -3.4332e-05,\n",
      "         -1.6212e-05]], device='cuda:0')\n",
      "Actual\n",
      "tensor([[   0.2637,   23.2924,    8.0400,   23.1371,   23.2584,   21.0326,\n",
      "           14.0555,   21.0362,   23.8087,   23.1486,   22.6810,   12.9352,\n",
      "           17.6446,   10.3698,   16.2545,   17.3639,   23.9682,   20.6139,\n",
      "           10.7859,   13.4756,   12.8043,  -16.1549,   21.5270,   25.6229,\n",
      "          -25.4533,    5.3136, -126.5296,  -29.7869,   -8.6416,    6.2139,\n",
      "          -22.0800,   16.7547,   19.5351,   19.2026,   11.8436,   13.3179]],\n",
      "       device='cuda:0')\n",
      "Diff\n",
      "tensor([[ 8.2016e-05,  1.3542e-04, -2.0027e-05, -2.0981e-05, -5.5313e-05,\n",
      "         -6.2943e-05, -1.2398e-04, -1.4114e-04, -7.6294e-05,  5.5313e-05,\n",
      "          3.8147e-06,  3.2425e-05, -3.6240e-05, -6.3896e-05, -5.9128e-05,\n",
      "         -6.1035e-05, -1.3351e-05,  2.6703e-05, -1.1444e-05,  9.7275e-05,\n",
      "         -2.0981e-05,  1.9073e-06,  9.5367e-05, -4.7684e-05, -1.9073e-05,\n",
      "          1.1826e-04,  7.6294e-06,  2.6703e-05,  3.2425e-05, -2.1458e-05,\n",
      "         -1.1063e-04, -9.9182e-05,  1.4687e-04,  7.6294e-06, -7.4387e-05,\n",
      "         -7.6294e-06]], device='cuda:0')\n",
      "Actual\n",
      "tensor([[   0.2638,   23.2925,    8.0400,   23.1371,   23.2583,   21.0325,\n",
      "           14.0554,   21.0361,   23.8086,   23.1487,   22.6810,   12.9352,\n",
      "           17.6446,   10.3697,   16.2544,   17.3639,   23.9682,   20.6139,\n",
      "           10.7859,   13.4757,   12.8043,  -16.1549,   21.5270,   25.6228,\n",
      "          -25.4533,    5.3137, -126.5296,  -29.7869,   -8.6415,    6.2139,\n",
      "          -22.0801,   16.7546,   19.5352,   19.2026,   11.8435,   13.3179]],\n",
      "       device='cuda:0')\n",
      "Diff\n",
      "tensor([[ 6.6757e-05,  1.0490e-04, -1.5259e-05, -1.3351e-05, -5.9128e-05,\n",
      "         -4.7684e-05, -1.0204e-04, -1.2207e-04, -6.1035e-05,  4.3869e-05,\n",
      "          7.6294e-06,  2.5749e-05, -3.6240e-05, -5.3406e-05, -5.5313e-05,\n",
      "         -5.3406e-05, -7.6294e-06,  1.9073e-05, -1.5259e-05,  7.1526e-05,\n",
      "         -2.0981e-05,  7.6294e-06,  8.2016e-05, -4.9591e-05, -1.7166e-05,\n",
      "          1.0395e-04,  7.6294e-06,  1.1444e-05,  2.4796e-05, -1.7643e-05,\n",
      "         -9.3460e-05, -8.7738e-05,  1.1444e-04,  1.9073e-05, -6.1035e-05,\n",
      "         -5.7220e-06]], device='cuda:0')\n",
      "Actual\n",
      "tensor([[   0.2638,   23.2926,    8.0400,   23.1370,   23.2583,   21.0325,\n",
      "           14.0553,   21.0360,   23.8086,   23.1487,   22.6810,   12.9353,\n",
      "           17.6445,   10.3697,   16.2544,   17.3638,   23.9682,   20.6139,\n",
      "           10.7858,   13.4758,   12.8043,  -16.1549,   21.5271,   25.6228,\n",
      "          -25.4533,    5.3138, -126.5296,  -29.7869,   -8.6415,    6.2139,\n",
      "          -22.0802,   16.7545,   19.5353,   19.2026,   11.8435,   13.3179]],\n",
      "       device='cuda:0')\n",
      "Diff\n",
      "tensor([[ 4.8637e-05,  8.3923e-05, -1.6212e-05, -3.2425e-05, -4.9591e-05,\n",
      "         -3.4332e-05, -9.6321e-05, -9.9182e-05, -4.9591e-05,  2.4796e-05,\n",
      "          7.6294e-06,  2.3842e-05, -2.8610e-05, -5.6267e-05, -4.5776e-05,\n",
      "         -4.0054e-05,  0.0000e+00,  1.3351e-05, -1.1444e-05,  5.9128e-05,\n",
      "         -1.4305e-05,  3.8147e-06,  7.2479e-05, -4.0054e-05, -1.7166e-05,\n",
      "          8.3923e-05,  7.6294e-06,  1.3351e-05,  1.8120e-05, -8.1062e-06,\n",
      "         -8.0109e-05, -7.0572e-05,  9.5367e-05,  3.8147e-06, -4.8637e-05,\n",
      "         -1.9073e-06]], device='cuda:0')\n",
      "Actual\n",
      "tensor([[   0.2640,   23.2928,    8.0401,   23.1372,   23.2581,   21.0323,\n",
      "           14.0552,   21.0360,   23.8085,   23.1487,   22.6812,   12.9352,\n",
      "           17.6447,   10.3698,   16.2544,   17.3638,   23.9681,   20.6140,\n",
      "           10.7859,   13.4756,   12.8043,  -16.1549,   21.5272,   25.6229,\n",
      "          -25.4536,    5.3139, -126.5296,  -29.7866,   -8.6416,    6.2135,\n",
      "          -22.0803,   16.7544,   19.5357,   19.2025,   11.8435,   13.3180]],\n",
      "       device='cuda:0')\n",
      "Diff\n",
      "tensor([[ 1.5354e-04,  2.4033e-04,  1.0681e-04,  1.8311e-04, -1.5450e-04,\n",
      "         -1.9646e-04, -1.3924e-04,  3.8147e-06, -9.1553e-05,  2.0981e-05,\n",
      "          2.0218e-04, -4.7684e-05,  1.3733e-04,  8.9645e-05,  6.1035e-05,\n",
      "         -3.6240e-05, -9.5367e-05,  5.9128e-05,  9.6321e-05, -1.2493e-04,\n",
      "          5.7220e-06, -5.1498e-05,  4.9591e-05,  5.3406e-05, -2.1172e-04,\n",
      "          6.8665e-05,  2.2888e-05,  2.8038e-04, -8.0109e-05, -3.4046e-04,\n",
      "         -1.2207e-04, -9.3460e-05,  4.6539e-04, -1.6785e-04,  1.0490e-05,\n",
      "          4.1008e-05]], device='cuda:0')\n",
      "Actual\n",
      "tensor([[   0.2640,   23.2929,    8.0401,   23.1372,   23.2581,   21.0323,\n",
      "           14.0551,   21.0359,   23.8085,   23.1487,   22.6812,   12.9352,\n",
      "           17.6446,   10.3697,   16.2544,   17.3638,   23.9681,   20.6140,\n",
      "           10.7859,   13.4757,   12.8042,  -16.1549,   21.5272,   25.6228,\n",
      "          -25.4536,    5.3139, -126.5296,  -29.7866,   -8.6416,    6.2135,\n",
      "          -22.0804,   16.7544,   19.5358,   19.2025,   11.8434,   13.3180]],\n",
      "       device='cuda:0')\n",
      "Diff\n",
      "tensor([[ 4.4823e-05,  5.7220e-05, -5.7220e-06, -1.7166e-05, -3.8147e-05,\n",
      "         -2.0981e-05, -6.9618e-05, -8.2016e-05, -2.8610e-05,  1.3351e-05,\n",
      "          3.8147e-06,  8.5831e-06, -2.6703e-05, -2.7657e-05, -2.2888e-05,\n",
      "         -4.0054e-05, -1.9073e-06,  7.6294e-06, -1.9073e-06,  3.8147e-05,\n",
      "         -2.0027e-05, -1.9073e-06,  5.1498e-05, -5.3406e-05, -1.9073e-06,\n",
      "          5.8174e-05,  1.5259e-05, -3.8147e-06,  1.0490e-05, -2.8610e-06,\n",
      "         -5.7220e-05, -4.0054e-05,  6.6757e-05,  7.6294e-06, -4.5776e-05,\n",
      "         -9.5367e-07]], device='cuda:0')\n",
      "Actual\n",
      "tensor([[   0.2640,   23.2927,    8.0401,   23.1371,   23.2581,   21.0324,\n",
      "           14.0551,   21.0358,   23.8085,   23.1486,   22.6811,   12.9352,\n",
      "           17.6446,   10.3697,   16.2543,   17.3637,   23.9680,   20.6139,\n",
      "           10.7859,   13.4757,   12.8041,  -16.1549,   21.5271,   25.6229,\n",
      "          -25.4534,    5.3138, -126.5297,  -29.7869,   -8.6415,    6.2136,\n",
      "          -22.0804,   16.7544,   19.5357,   19.2025,   11.8434,   13.3179]],\n",
      "       device='cuda:0')\n",
      "Diff\n",
      "tensor([[-3.2425e-05, -1.2398e-04,  6.3896e-05, -1.2016e-04,  9.5367e-06,\n",
      "          1.5068e-04,  1.0490e-05, -1.2398e-04,  9.5367e-06, -1.0109e-04,\n",
      "         -8.3923e-05, -1.7166e-05, -1.9073e-06, -1.1444e-05, -8.7738e-05,\n",
      "         -6.2943e-05, -4.5776e-05, -3.2425e-05, -7.5340e-05,  3.5286e-05,\n",
      "         -1.3828e-04,  1.5259e-05, -1.0109e-04,  6.2943e-05,  1.1444e-04,\n",
      "         -1.5736e-04, -1.5259e-04, -2.5940e-04,  6.7711e-05,  7.9155e-05,\n",
      "         -1.9073e-06,  2.4796e-05, -1.3733e-04,  6.4850e-05, -5.8174e-05,\n",
      "         -8.5831e-06]], device='cuda:0')\n",
      "Actual\n",
      "tensor([[   0.2641,   23.2928,    8.0401,   23.1371,   23.2580,   21.0324,\n",
      "           14.0550,   21.0357,   23.8084,   23.1487,   22.6811,   12.9352,\n",
      "           17.6446,   10.3697,   16.2543,   17.3637,   23.9680,   20.6140,\n",
      "           10.7859,   13.4757,   12.8041,  -16.1549,   21.5272,   25.6228,\n",
      "          -25.4535,    5.3138, -126.5297,  -29.7869,   -8.6415,    6.2136,\n",
      "          -22.0804,   16.7544,   19.5357,   19.2025,   11.8433,   13.3179]],\n",
      "       device='cuda:0')\n",
      "Diff\n",
      "tensor([[ 6.1035e-05,  7.8201e-05,  2.0981e-05, -1.7166e-05, -5.5313e-05,\n",
      "         -3.0518e-05, -8.3923e-05, -1.0300e-04, -2.2888e-05,  3.2425e-05,\n",
      "          1.1444e-05,  2.8610e-06, -2.8610e-05, -1.7166e-05, -2.4796e-05,\n",
      "         -2.2888e-05, -9.5367e-06,  9.5367e-06,  3.8147e-06,  2.7657e-05,\n",
      "         -1.3351e-05, -7.6294e-06,  5.7220e-05, -4.1962e-05, -1.5259e-05,\n",
      "          7.0572e-05,  1.5259e-05,  4.0054e-05, -9.5367e-07, -7.6294e-06,\n",
      "         -4.0054e-05, -5.3406e-05,  6.6757e-05, -3.8147e-06, -4.6730e-05,\n",
      "          4.7684e-06]], device='cuda:0')\n",
      "Actual\n",
      "tensor([[   0.2641,   23.2929,    8.0402,   23.1371,   23.2580,   21.0324,\n",
      "           14.0549,   21.0356,   23.8084,   23.1487,   22.6811,   12.9352,\n",
      "           17.6446,   10.3697,   16.2543,   17.3637,   23.9680,   20.6140,\n",
      "           10.7859,   13.4758,   12.8041,  -16.1549,   21.5272,   25.6228,\n",
      "          -25.4535,    5.3139, -126.5297,  -29.7868,   -8.6415,    6.2136,\n",
      "          -22.0805,   16.7543,   19.5358,   19.2025,   11.8433,   13.3180]],\n",
      "       device='cuda:0')\n",
      "Diff\n",
      "tensor([[ 4.2915e-05,  7.0572e-05,  1.3351e-05, -1.7166e-05, -4.7684e-05,\n",
      "         -2.0981e-05, -7.4387e-05, -9.5367e-05, -2.6703e-05,  2.0981e-05,\n",
      "          2.0981e-05,  7.6294e-06, -3.2425e-05, -2.1935e-05, -2.0981e-05,\n",
      "         -2.2888e-05, -5.7220e-06,  7.6294e-06, -2.8610e-06,  2.5749e-05,\n",
      "         -7.6294e-06, -1.9073e-06,  4.5776e-05, -4.0054e-05, -1.7166e-05,\n",
      "          6.2943e-05,  3.0518e-05,  2.8610e-05,  2.8610e-06, -1.0967e-05,\n",
      "         -4.1962e-05, -5.1498e-05,  5.9128e-05,  3.8147e-06, -4.3869e-05,\n",
      "          3.8147e-06]], device='cuda:0')\n",
      "Actual\n",
      "tensor([[   0.2645,   23.2930,    8.0401,   23.1370,   23.2580,   21.0324,\n",
      "           14.0548,   21.0355,   23.8082,   23.1488,   22.6811,   12.9352,\n",
      "           17.6446,   10.3697,   16.2543,   17.3636,   23.9680,   20.6139,\n",
      "           10.7859,   13.4758,   12.8040,  -16.1551,   21.5272,   25.6226,\n",
      "          -25.4535,    5.3139, -126.5297,  -29.7868,   -8.6415,    6.2137,\n",
      "          -22.0805,   16.7542,   19.5357,   19.2024,   11.8432,   13.3180]],\n",
      "       device='cuda:0')\n",
      "Diff\n",
      "tensor([[ 3.7670e-04,  1.0872e-04, -6.2943e-05, -9.3460e-05,  4.7684e-05,\n",
      "         -2.2888e-05, -1.5450e-04, -1.2589e-04, -1.9455e-04,  1.4114e-04,\n",
      "         -7.6294e-05, -4.2915e-05,  2.8610e-05,  4.6730e-05,  5.7220e-05,\n",
      "         -4.7684e-05,  1.1444e-05, -8.2016e-05,  3.7193e-05,  3.9101e-05,\n",
      "         -6.0081e-05, -1.2779e-04, -7.6294e-06, -1.5640e-04, -4.5776e-05,\n",
      "         -4.8161e-05,  3.0518e-05,  1.5259e-05, -1.4305e-05,  1.3208e-04,\n",
      "         -6.4850e-05, -1.4305e-04, -4.7684e-05, -8.7738e-05, -9.5367e-05,\n",
      "         -2.8610e-06]], device='cuda:0')\n",
      "Actual\n",
      "tensor([[   0.2645,   23.2930,    8.0401,   23.1370,   23.2580,   21.0323,\n",
      "           14.0547,   21.0354,   23.8082,   23.1489,   22.6811,   12.9352,\n",
      "           17.6446,   10.3697,   16.2543,   17.3636,   23.9680,   20.6139,\n",
      "           10.7859,   13.4758,   12.8040,  -16.1551,   21.5273,   25.6226,\n",
      "          -25.4535,    5.3139, -126.5297,  -29.7868,   -8.6415,    6.2137,\n",
      "          -22.0806,   16.7541,   19.5358,   19.2025,   11.8432,   13.3180]],\n",
      "       device='cuda:0')\n",
      "Diff\n",
      "tensor([[ 3.7193e-05,  5.5313e-05,  9.5367e-06, -7.6294e-06, -4.0054e-05,\n",
      "         -2.0981e-05, -6.1989e-05, -8.0109e-05, -7.6294e-06,  1.7166e-05,\n",
      "          9.5367e-06,  5.7220e-06, -2.8610e-05, -3.1471e-05, -2.2888e-05,\n",
      "         -1.5259e-05, -9.5367e-06,  1.3351e-05, -1.9073e-06,  2.4796e-05,\n",
      "         -7.6294e-06, -1.9073e-06,  4.9591e-05, -3.0518e-05, -9.5367e-06,\n",
      "          5.2929e-05, -1.5259e-05,  1.9073e-05,  5.7220e-06, -7.6294e-06,\n",
      "         -3.2425e-05, -3.8147e-05,  4.5776e-05,  7.6294e-06, -3.3379e-05,\n",
      "          2.8610e-06]], device='cuda:0')\n",
      "Actual\n",
      "tensor([[   0.2647,   23.2932,    8.0402,   23.1369,   23.2580,   21.0322,\n",
      "           14.0545,   21.0354,   23.8080,   23.1490,   22.6810,   12.9353,\n",
      "           17.6446,   10.3696,   16.2543,   17.3636,   23.9680,   20.6140,\n",
      "           10.7860,   13.4759,   12.8039,  -16.1551,   21.5273,   25.6225,\n",
      "          -25.4534,    5.3141, -126.5297,  -29.7869,   -8.6416,    6.2139,\n",
      "          -22.0806,   16.7540,   19.5358,   19.2025,   11.8430,   13.3180]],\n",
      "       device='cuda:0')\n",
      "Diff\n",
      "tensor([[ 1.8311e-04,  1.4496e-04,  8.0109e-05, -1.5259e-05,  0.0000e+00,\n",
      "         -1.1635e-04, -2.6798e-04, -3.0518e-05, -1.9646e-04,  1.1826e-04,\n",
      "         -7.0572e-05,  1.6403e-04,  1.5259e-05, -8.2016e-05, -3.8147e-06,\n",
      "          0.0000e+00, -4.0054e-05,  7.8201e-05,  6.2943e-05,  3.1471e-05,\n",
      "         -8.2016e-05, -4.0054e-05,  7.6294e-06, -8.9645e-05,  8.2016e-05,\n",
      "          1.7452e-04,  0.0000e+00, -1.1063e-04, -4.4823e-05,  2.0266e-04,\n",
      "         -6.6757e-05, -1.5259e-04, -2.6703e-05,  4.1962e-05, -1.2493e-04,\n",
      "          1.5259e-05]], device='cuda:0')\n",
      "Actual\n",
      "tensor([[   0.2647,   23.2932,    8.0402,   23.1369,   23.2579,   21.0322,\n",
      "           14.0544,   21.0353,   23.8080,   23.1490,   22.6810,   12.9353,\n",
      "           17.6446,   10.3696,   16.2543,   17.3636,   23.9680,   20.6140,\n",
      "           10.7859,   13.4759,   12.8039,  -16.1551,   21.5273,   25.6225,\n",
      "          -25.4534,    5.3141, -126.5297,  -29.7869,   -8.6416,    6.2139,\n",
      "          -22.0807,   16.7539,   19.5358,   19.2025,   11.8430,   13.3180]],\n",
      "       device='cuda:0')\n",
      "Diff\n",
      "tensor([[ 2.0027e-05,  5.3406e-05,  6.6757e-06, -1.1444e-05, -2.8610e-05,\n",
      "         -2.2888e-05, -6.1035e-05, -6.1035e-05, -3.8147e-06,  5.7220e-06,\n",
      "          9.5367e-06,  1.4305e-05, -2.2888e-05, -3.5286e-05, -1.9073e-05,\n",
      "         -1.7166e-05,  0.0000e+00,  9.5367e-06, -1.0490e-05,  2.5749e-05,\n",
      "         -7.6294e-06,  1.9073e-06,  3.4332e-05, -2.4796e-05,  9.5367e-06,\n",
      "          5.0545e-05,  7.6294e-06,  9.5367e-06, -1.9073e-06, -1.6212e-05,\n",
      "         -2.6703e-05, -3.4332e-05,  4.9591e-05,  1.5259e-05, -5.1498e-05,\n",
      "         -1.9073e-06]], device='cuda:0')\n",
      "rrrrr////k/2//3/P//\n",
      "rnbqkbnr/pppppppp/8/8/8/8/PPPPPPPP/RNBQKBNR w KQkq - 0 1\n"
     ]
    },
    {
     "data": {
      "text/plain": [
       "tensor(8.3286, device='cuda:0', grad_fn=<MeanBackward0>)"
      ]
     },
     "execution_count": 32,
     "metadata": {},
     "output_type": "execute_result"
    }
   ],
   "source": [
    "N = 0\n",
    "recognizer_full.eval()\n",
    "output, desired_output = generate_output(recognizer_full, dataset[N][0].to(device).float() / 255.0, max_len=20), dataset[N][1]\n",
    "print(output)\n",
    "print(desired_output)\n",
    "recognizer_full.compute_loss(dataset[N][0].to(device).float().unsqueeze(0), ['rnbqkbnr/pppppppp/8/8/8/8/PPPPPPPP/RNBQKBNR w KQkq - 0 1'])"
   ]
  },
  {
   "cell_type": "code",
   "execution_count": 110,
   "id": "ab6ea7d8-22b0-4cfa-8289-7cd33409a110",
   "metadata": {
    "tags": []
   },
   "outputs": [
    {
     "name": "stdout",
     "output_type": "stream",
     "text": [
      "tensor([[-0., -0., -0., -0., -0., -0., -0., -0.]], device='cuda:0')\n",
      "tensor([[[-10000., -10000., -10000., -10000., -10000.,  10000., -10000.],\n",
      "         [-10000., -10000., -10000., -10000., -10000.,  10000., -10000.],\n",
      "         [-10000., -10000., -10000., -10000., -10000.,  10000., -10000.],\n",
      "         [-10000., -10000., -10000., -10000., -10000., -10000.,  10000.],\n",
      "         [-10000., -10000., -10000., -10000., -10000., -10000.,  10000.],\n",
      "         [-10000., -10000., -10000., -10000., -10000.,  10000., -10000.],\n",
      "         [ 10000., -10000., -10000., -10000., -10000., -10000., -10000.],\n",
      "         [ 10000., -10000., -10000., -10000., -10000., -10000., -10000.]]],\n",
      "       device='cuda:0')\n"
     ]
    },
    {
     "data": {
      "text/plain": [
       "tensor(0., device='cuda:0')"
      ]
     },
     "execution_count": 110,
     "metadata": {},
     "output_type": "execute_result"
    }
   ],
   "source": [
    "def compute_loss(self, input_img, desired_output_texts: List[str], max_len: int=8):\n",
    "        desired_output_texts = [txt + self.idx2chr[0] for txt in desired_output_texts]\n",
    "        shifted_outputs = [(self.idx2chr[1] + output)[:-1] for output in desired_output_texts]\n",
    "        # mask comes out as batch_size x max_len x max_len\n",
    "        current_seq_tensor, mask = self.convert_text_to_tensor(shifted_outputs, max_len)\n",
    "        # Index at 0 for the second coordinate, because it's just repeated along that dimension. now it is batch_size x max_len\n",
    "        mask = 1 - mask[:, 0, :].float()\n",
    "        idx_list = self.convert_text_to_idx_list(desired_output_texts, max_len) # comes out as batch_size x max_len\n",
    "        ideal_output = torch.nn.functional.one_hot(idx_list).float() * 20000 - 10000 # comes out as batch_size x max_len x vocab_size\n",
    "        # need batch_size x vocab_size x max_len\n",
    "        loss = torch.nn.CrossEntropyLoss(reduction='none')(torch.permute(ideal_output, (0, 2, 1)), idx_list) * mask\n",
    "        print(loss)\n",
    "        print(ideal_output)\n",
    "        return torch.sum(loss) / torch.sum(mask)\n",
    "\n",
    "compute_loss(recognizer_full, dataset[N][0].to(device).float().unsqueeze(0), ['rrrbbr'])"
   ]
  },
  {
   "cell_type": "code",
   "execution_count": null,
   "id": "6927b007-fafd-468a-b8c1-6435a7d87ee3",
   "metadata": {},
   "outputs": [],
   "source": [
    "for i, img in enumerate(dataset.images):\n",
    "    dataset.images[i] = T.CenterCrop(224)(img)"
   ]
  },
  {
   "cell_type": "code",
   "execution_count": null,
   "id": "6f2bcd23-0655-46c3-b872-36995977e3ea",
   "metadata": {},
   "outputs": [],
   "source": [
    "transform = T.Compose([T.Pad(50), T.RandAugment(num_ops=2), T.Resize(224), T.CenterCrop(224)])"
   ]
  },
  {
   "cell_type": "code",
   "execution_count": null,
   "id": "1d6b5dc0-24ac-4056-9a36-40b1e4fdcfd0",
   "metadata": {},
   "outputs": [],
   "source": [
    "import matplotlib.pyplot as plt"
   ]
  },
  {
   "cell_type": "code",
   "execution_count": null,
   "id": "53d9e6d9-4066-41ef-b3c8-4e55aa30a942",
   "metadata": {},
   "outputs": [],
   "source": [
    "plt.imshow(transform(dataset[1571][0]).numpy().transpose((1, 2, 0)))"
   ]
  }
 ],
 "metadata": {
  "kernelspec": {
   "display_name": "Python 3 (ipykernel)",
   "language": "python",
   "name": "python3"
  },
  "language_info": {
   "codemirror_mode": {
    "name": "ipython",
    "version": 3
   },
   "file_extension": ".py",
   "mimetype": "text/x-python",
   "name": "python",
   "nbconvert_exporter": "python",
   "pygments_lexer": "ipython3",
   "version": "3.10.8"
  }
 },
 "nbformat": 4,
 "nbformat_minor": 5
}
